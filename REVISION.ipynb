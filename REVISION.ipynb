{
 "cells": [
  {
   "cell_type": "code",
   "execution_count": 1,
   "id": "570a07e1",
   "metadata": {},
   "outputs": [
    {
     "data": {
      "text/plain": [
       "'HELLO WORLD'"
      ]
     },
     "execution_count": 1,
     "metadata": {},
     "output_type": "execute_result"
    }
   ],
   "source": [
    "'HELLO WORLD'"
   ]
  },
  {
   "cell_type": "code",
   "execution_count": 3,
   "id": "1bb70191",
   "metadata": {},
   "outputs": [
    {
     "name": "stdout",
     "output_type": "stream",
     "text": [
      "fun\n"
     ]
    }
   ],
   "source": [
    "a = \"i'm having fun\"\n",
    "print(a[-3:])"
   ]
  },
  {
   "cell_type": "code",
   "execution_count": 4,
   "id": "07adeabf",
   "metadata": {},
   "outputs": [
    {
     "name": "stdout",
     "output_type": "stream",
     "text": [
      "n\n"
     ]
    }
   ],
   "source": [
    "print(\"Python is fun\"[-3:][-1])\n",
    "\n"
   ]
  },
  {
   "cell_type": "code",
   "execution_count": 9,
   "id": "5def3bf0",
   "metadata": {},
   "outputs": [
    {
     "name": "stdout",
     "output_type": "stream",
     "text": [
      "n\n"
     ]
    }
   ],
   "source": [
    "print(\"my name is khan\"[-4:][-1])"
   ]
  },
  {
   "cell_type": "code",
   "execution_count": 12,
   "id": "ef4c2055",
   "metadata": {},
   "outputs": [
    {
     "name": "stdout",
     "output_type": "stream",
     "text": [
      "how old are you: 43\n",
      "93\n"
     ]
    }
   ],
   "source": [
    "age = input(\"how old are you: \")\n",
    "new_age = int(age) + 50\n",
    "print(new_age)"
   ]
  },
  {
   "cell_type": "code",
   "execution_count": 14,
   "id": "d702be56",
   "metadata": {},
   "outputs": [
    {
     "name": "stdout",
     "output_type": "stream",
     "text": [
      "Help on built-in function replace:\n",
      "\n",
      "replace(old, new, count=-1, /) method of builtins.str instance\n",
      "    Return a copy with all occurrences of substring old replaced by new.\n",
      "    \n",
      "      count\n",
      "        Maximum number of occurrences to replace.\n",
      "        -1 (the default value) means replace all occurrences.\n",
      "    \n",
      "    If the optional argument count is given, only the first count occurrences are\n",
      "    replaced.\n",
      "\n"
     ]
    }
   ],
   "source": [
    "help(\"\".replace)"
   ]
  },
  {
   "cell_type": "code",
   "execution_count": 15,
   "id": "b2311ec4",
   "metadata": {},
   "outputs": [],
   "source": [
    "bank = \"access bank\""
   ]
  },
  {
   "cell_type": "code",
   "execution_count": 16,
   "id": "c19fe797",
   "metadata": {},
   "outputs": [
    {
     "data": {
      "text/plain": [
       "'assess bank'"
      ]
     },
     "execution_count": 16,
     "metadata": {},
     "output_type": "execute_result"
    }
   ],
   "source": [
    "bank. replace('c',\"s\")"
   ]
  },
  {
   "cell_type": "code",
   "execution_count": 17,
   "id": "d4be2868",
   "metadata": {},
   "outputs": [
    {
     "data": {
      "text/plain": [
       "3"
      ]
     },
     "execution_count": 17,
     "metadata": {},
     "output_type": "execute_result"
    }
   ],
   "source": [
    "1 + 2"
   ]
  },
  {
   "cell_type": "code",
   "execution_count": 18,
   "id": "2d050d63",
   "metadata": {},
   "outputs": [
    {
     "data": {
      "text/plain": [
       "50"
      ]
     },
     "execution_count": 18,
     "metadata": {},
     "output_type": "execute_result"
    }
   ],
   "source": [
    "a = 10 \n",
    "b = 20\n",
    "c = 30\n",
    "a  + b - a + c"
   ]
  },
  {
   "cell_type": "code",
   "execution_count": 19,
   "id": "60052de1",
   "metadata": {},
   "outputs": [
    {
     "data": {
      "text/plain": [
       "3"
      ]
     },
     "execution_count": 19,
     "metadata": {},
     "output_type": "execute_result"
    }
   ],
   "source": [
    "c // a"
   ]
  },
  {
   "cell_type": "code",
   "execution_count": 20,
   "id": "3df62eb5",
   "metadata": {},
   "outputs": [
    {
     "data": {
      "text/plain": [
       "3.0"
      ]
     },
     "execution_count": 20,
     "metadata": {},
     "output_type": "execute_result"
    }
   ],
   "source": [
    "c / a"
   ]
  },
  {
   "cell_type": "code",
   "execution_count": 21,
   "id": "6bd4ad6a",
   "metadata": {},
   "outputs": [
    {
     "data": {
      "text/plain": [
       "0"
      ]
     },
     "execution_count": 21,
     "metadata": {},
     "output_type": "execute_result"
    }
   ],
   "source": [
    "c % a"
   ]
  },
  {
   "cell_type": "code",
   "execution_count": 22,
   "id": "bff864be",
   "metadata": {},
   "outputs": [
    {
     "data": {
      "text/plain": [
       "10"
      ]
     },
     "execution_count": 22,
     "metadata": {},
     "output_type": "execute_result"
    }
   ],
   "source": [
    "c % b"
   ]
  },
  {
   "cell_type": "code",
   "execution_count": 23,
   "id": "4fa6a1f0",
   "metadata": {},
   "outputs": [
    {
     "data": {
      "text/plain": [
       "200"
      ]
     },
     "execution_count": 23,
     "metadata": {},
     "output_type": "execute_result"
    }
   ],
   "source": [
    "b * a"
   ]
  },
  {
   "cell_type": "code",
   "execution_count": 24,
   "id": "5f969793",
   "metadata": {},
   "outputs": [
    {
     "data": {
      "text/plain": [
       "100000000000000000000"
      ]
     },
     "execution_count": 24,
     "metadata": {},
     "output_type": "execute_result"
    }
   ],
   "source": [
    "a ** b"
   ]
  },
  {
   "cell_type": "code",
   "execution_count": 25,
   "id": "f624c227",
   "metadata": {},
   "outputs": [
    {
     "data": {
      "text/plain": [
       "14"
      ]
     },
     "execution_count": 25,
     "metadata": {},
     "output_type": "execute_result"
    }
   ],
   "source": [
    "2 ** 3 + 2 * 3"
   ]
  },
  {
   "cell_type": "code",
   "execution_count": 26,
   "id": "ef6857f3",
   "metadata": {},
   "outputs": [],
   "source": [
    "name = \"KHAN\""
   ]
  },
  {
   "cell_type": "code",
   "execution_count": 27,
   "id": "f1be2d2e",
   "metadata": {},
   "outputs": [],
   "source": [
    "name_2 = \"biggy\""
   ]
  },
  {
   "cell_type": "code",
   "execution_count": 28,
   "id": "b2d7c04d",
   "metadata": {},
   "outputs": [],
   "source": [
    "_game_name = \"gta\""
   ]
  },
  {
   "cell_type": "code",
   "execution_count": 29,
   "id": "6c55053f",
   "metadata": {},
   "outputs": [],
   "source": [
    "nAmE_Of_cLaSs = \"jss3 D\""
   ]
  },
  {
   "cell_type": "code",
   "execution_count": 30,
   "id": "fb81e7e7",
   "metadata": {},
   "outputs": [
    {
     "name": "stdout",
     "output_type": "stream",
     "text": [
      "hello world one\n"
     ]
    },
    {
     "data": {
      "text/plain": [
       "'hello world two!'"
      ]
     },
     "execution_count": 30,
     "metadata": {},
     "output_type": "execute_result"
    }
   ],
   "source": [
    "print(\"hello world one\")\n",
    "\"hello world two!\""
   ]
  },
  {
   "cell_type": "code",
   "execution_count": 2,
   "id": "7f881422",
   "metadata": {},
   "outputs": [],
   "source": [
    "school = \"LASU\"\n",
    "level = 400\n",
    "course = \"Mechatronics\""
   ]
  },
  {
   "cell_type": "code",
   "execution_count": 10,
   "id": "7c9f0d4a",
   "metadata": {},
   "outputs": [
    {
     "name": "stdout",
     "output_type": "stream",
     "text": [
      "I am a 400 student of LASU studying Mechatronics\n"
     ]
    }
   ],
   "source": [
    "print(\"I am a {level} student of {school} studying {course}\".format(school= \"LASU\",level= 400, course= \"Mechatronics\"))"
   ]
  },
  {
   "cell_type": "code",
   "execution_count": 12,
   "id": "2bca8c83",
   "metadata": {},
   "outputs": [
    {
     "name": "stdout",
     "output_type": "stream",
     "text": [
      " lagos is a beautiful city\n"
     ]
    }
   ],
   "source": [
    "print(\" lagos is a {fine} city\". format(fine= \"beautiful\"))"
   ]
  },
  {
   "cell_type": "code",
   "execution_count": 3,
   "id": "fbf28628",
   "metadata": {},
   "outputs": [
    {
     "name": "stdout",
     "output_type": "stream",
     "text": [
      "we would be going on the journey with badru\tand\tqaasim using monster truck \n"
     ]
    }
   ],
   "source": [
    "print(\"we would be going on the journey with {1}\\tand\\t{0} using {2} \". format(\"qaasim\", \"badru\",\"monster truck\"))"
   ]
  },
  {
   "cell_type": "code",
   "execution_count": 4,
   "id": "86e63064",
   "metadata": {},
   "outputs": [
    {
     "name": "stdout",
     "output_type": "stream",
     "text": [
      "the king is over 100 years with 10 line of progeny\n"
     ]
    }
   ],
   "source": [
    "years = 100\n",
    "linage = 10\n",
    "print(f\"the king is over {years} years with {linage} line of progeny\")"
   ]
  },
  {
   "cell_type": "code",
   "execution_count": 5,
   "id": "b0b0332d",
   "metadata": {},
   "outputs": [],
   "source": [
    "r = 365/12"
   ]
  },
  {
   "cell_type": "code",
   "execution_count": 6,
   "id": "dad17e7f",
   "metadata": {},
   "outputs": [
    {
     "data": {
      "text/plain": [
       "30.416666666666668"
      ]
     },
     "execution_count": 6,
     "metadata": {},
     "output_type": "execute_result"
    }
   ],
   "source": [
    "r"
   ]
  },
  {
   "cell_type": "code",
   "execution_count": 7,
   "id": "ccd8bc02",
   "metadata": {},
   "outputs": [
    {
     "name": "stdout",
     "output_type": "stream",
     "text": [
      "we have at most 30.41667 month in a year\n"
     ]
    }
   ],
   "source": [
    "print(f\"we have at most {r:1.5f} month in a year\")"
   ]
  },
  {
   "cell_type": "code",
   "execution_count": 8,
   "id": "d6df18a1",
   "metadata": {},
   "outputs": [],
   "source": [
    "lst = [\"ten\",5,9,'four',0]"
   ]
  },
  {
   "cell_type": "code",
   "execution_count": 9,
   "id": "a9b87ece",
   "metadata": {},
   "outputs": [
    {
     "data": {
      "text/plain": [
       "['ten', 5, 9, 'four', 0]"
      ]
     },
     "execution_count": 9,
     "metadata": {},
     "output_type": "execute_result"
    }
   ],
   "source": [
    "lst"
   ]
  },
  {
   "cell_type": "code",
   "execution_count": 12,
   "id": "57d02119",
   "metadata": {},
   "outputs": [
    {
     "data": {
      "text/plain": [
       "'n'"
      ]
     },
     "execution_count": 12,
     "metadata": {},
     "output_type": "execute_result"
    }
   ],
   "source": [
    "lst[0][-1]"
   ]
  },
  {
   "cell_type": "code",
   "execution_count": 13,
   "id": "1e43bb81",
   "metadata": {},
   "outputs": [],
   "source": [
    "lst[0] = \"twenty\""
   ]
  },
  {
   "cell_type": "code",
   "execution_count": 14,
   "id": "ad48f34f",
   "metadata": {},
   "outputs": [
    {
     "data": {
      "text/plain": [
       "['twenty', 5, 9, 'four', 0]"
      ]
     },
     "execution_count": 14,
     "metadata": {},
     "output_type": "execute_result"
    }
   ],
   "source": [
    "lst"
   ]
  },
  {
   "cell_type": "code",
   "execution_count": 16,
   "id": "c6ecae60",
   "metadata": {},
   "outputs": [
    {
     "data": {
      "text/plain": [
       "'our'"
      ]
     },
     "execution_count": 16,
     "metadata": {},
     "output_type": "execute_result"
    }
   ],
   "source": [
    "lst[3][-4:][-3:]"
   ]
  },
  {
   "cell_type": "code",
   "execution_count": 18,
   "id": "d379708f",
   "metadata": {},
   "outputs": [
    {
     "data": {
      "text/plain": [
       "'our'"
      ]
     },
     "execution_count": 18,
     "metadata": {},
     "output_type": "execute_result"
    }
   ],
   "source": [
    "lst[3][-4:][-3:] "
   ]
  },
  {
   "cell_type": "code",
   "execution_count": 19,
   "id": "63c62a9d",
   "metadata": {},
   "outputs": [
    {
     "data": {
      "text/plain": [
       "['twenty', 5, 9, 'four', 0]"
      ]
     },
     "execution_count": 19,
     "metadata": {},
     "output_type": "execute_result"
    }
   ],
   "source": [
    "lst"
   ]
  },
  {
   "cell_type": "code",
   "execution_count": 20,
   "id": "3d176100",
   "metadata": {},
   "outputs": [
    {
     "data": {
      "text/plain": [
       "'fifty'"
      ]
     },
     "execution_count": 20,
     "metadata": {},
     "output_type": "execute_result"
    }
   ],
   "source": [
    "lst[0].replace(\"twen\",\"fif\")"
   ]
  },
  {
   "cell_type": "code",
   "execution_count": 21,
   "id": "b045c79d",
   "metadata": {},
   "outputs": [
    {
     "data": {
      "text/plain": [
       "['twenty', 5, 9, 'four', 0]"
      ]
     },
     "execution_count": 21,
     "metadata": {},
     "output_type": "execute_result"
    }
   ],
   "source": [
    "lst"
   ]
  },
  {
   "cell_type": "code",
   "execution_count": 23,
   "id": "39b92fd8",
   "metadata": {},
   "outputs": [],
   "source": [
    "lst.append(\"fourty\")"
   ]
  },
  {
   "cell_type": "code",
   "execution_count": 24,
   "id": "cbda74e0",
   "metadata": {},
   "outputs": [
    {
     "data": {
      "text/plain": [
       "['twenty', 5, 9, 'four', 0, 'fourty']"
      ]
     },
     "execution_count": 24,
     "metadata": {},
     "output_type": "execute_result"
    }
   ],
   "source": [
    "lst"
   ]
  },
  {
   "cell_type": "code",
   "execution_count": 26,
   "id": "20828871",
   "metadata": {},
   "outputs": [
    {
     "data": {
      "text/plain": [
       "'four'"
      ]
     },
     "execution_count": 26,
     "metadata": {},
     "output_type": "execute_result"
    }
   ],
   "source": [
    "lst.pop(3)"
   ]
  },
  {
   "cell_type": "code",
   "execution_count": 27,
   "id": "ecf9db59",
   "metadata": {},
   "outputs": [
    {
     "data": {
      "text/plain": [
       "['twenty', 5, 9, 0, 'fourty']"
      ]
     },
     "execution_count": 27,
     "metadata": {},
     "output_type": "execute_result"
    }
   ],
   "source": [
    "lst"
   ]
  },
  {
   "cell_type": "code",
   "execution_count": 28,
   "id": "643e9911",
   "metadata": {},
   "outputs": [
    {
     "data": {
      "text/plain": [
       "0"
      ]
     },
     "execution_count": 28,
     "metadata": {},
     "output_type": "execute_result"
    }
   ],
   "source": [
    "lst.pop(3)"
   ]
  },
  {
   "cell_type": "code",
   "execution_count": 29,
   "id": "4e718b3d",
   "metadata": {},
   "outputs": [
    {
     "data": {
      "text/plain": [
       "['twenty', 5, 9, 'fourty']"
      ]
     },
     "execution_count": 29,
     "metadata": {},
     "output_type": "execute_result"
    }
   ],
   "source": [
    "lst"
   ]
  },
  {
   "cell_type": "code",
   "execution_count": 31,
   "id": "2edb206a",
   "metadata": {},
   "outputs": [
    {
     "data": {
      "text/plain": [
       "'fourty'"
      ]
     },
     "execution_count": 31,
     "metadata": {},
     "output_type": "execute_result"
    }
   ],
   "source": [
    "lst.pop()"
   ]
  },
  {
   "cell_type": "code",
   "execution_count": 32,
   "id": "f77c427e",
   "metadata": {},
   "outputs": [
    {
     "data": {
      "text/plain": [
       "['twenty', 5, 9]"
      ]
     },
     "execution_count": 32,
     "metadata": {},
     "output_type": "execute_result"
    }
   ],
   "source": [
    "lst"
   ]
  },
  {
   "cell_type": "code",
   "execution_count": 33,
   "id": "83b47046",
   "metadata": {},
   "outputs": [],
   "source": [
    "lst.append(\"light\")"
   ]
  },
  {
   "cell_type": "code",
   "execution_count": 35,
   "id": "5f15c105",
   "metadata": {},
   "outputs": [],
   "source": [
    "lst.append(\"water\")"
   ]
  },
  {
   "cell_type": "code",
   "execution_count": 36,
   "id": "bc34324e",
   "metadata": {},
   "outputs": [
    {
     "data": {
      "text/plain": [
       "['twenty', 5, 9, 'light', 'water']"
      ]
     },
     "execution_count": 36,
     "metadata": {},
     "output_type": "execute_result"
    }
   ],
   "source": [
    "lst"
   ]
  },
  {
   "cell_type": "code",
   "execution_count": 38,
   "id": "90eb36ac",
   "metadata": {},
   "outputs": [
    {
     "ename": "TypeError",
     "evalue": "'<' not supported between instances of 'int' and 'str'",
     "output_type": "error",
     "traceback": [
      "\u001b[1;31m---------------------------------------------------------------------------\u001b[0m",
      "\u001b[1;31mTypeError\u001b[0m                                 Traceback (most recent call last)",
      "Cell \u001b[1;32mIn[38], line 1\u001b[0m\n\u001b[1;32m----> 1\u001b[0m lst\u001b[38;5;241m.\u001b[39msort()\n",
      "\u001b[1;31mTypeError\u001b[0m: '<' not supported between instances of 'int' and 'str'"
     ]
    }
   ],
   "source": [
    "lst.sort()\n"
   ]
  },
  {
   "cell_type": "code",
   "execution_count": 39,
   "id": "c1edc6e5",
   "metadata": {},
   "outputs": [],
   "source": [
    "my_list = [\"water\",\"watermelon\",\"garlic\",\"tumeric\",\"ginger\",\"black_seed\"]"
   ]
  },
  {
   "cell_type": "code",
   "execution_count": 40,
   "id": "149b3f69",
   "metadata": {},
   "outputs": [],
   "source": [
    "my_list.sort()\n",
    "my_sorted_list = my_list"
   ]
  },
  {
   "cell_type": "code",
   "execution_count": 41,
   "id": "0831f260",
   "metadata": {},
   "outputs": [
    {
     "data": {
      "text/plain": [
       "['black_seed', 'garlic', 'ginger', 'tumeric', 'water', 'watermelon']"
      ]
     },
     "execution_count": 41,
     "metadata": {},
     "output_type": "execute_result"
    }
   ],
   "source": [
    "my_sorted_list"
   ]
  },
  {
   "cell_type": "code",
   "execution_count": 42,
   "id": "5a6141ea",
   "metadata": {},
   "outputs": [],
   "source": [
    "my_sorted_list.reverse()"
   ]
  },
  {
   "cell_type": "code",
   "execution_count": 43,
   "id": "afc1b8d5",
   "metadata": {},
   "outputs": [
    {
     "data": {
      "text/plain": [
       "['watermelon', 'water', 'tumeric', 'ginger', 'garlic', 'black_seed']"
      ]
     },
     "execution_count": 43,
     "metadata": {},
     "output_type": "execute_result"
    }
   ],
   "source": [
    "my_sorted_list"
   ]
  },
  {
   "cell_type": "code",
   "execution_count": 67,
   "id": "64e47bde",
   "metadata": {},
   "outputs": [],
   "source": [
    "fruit_prices = {\"watermelon\":[{\"big\" : 1000},{\"small\":500}],\"banana\":\"500\",\"carrot\":\"700\",\"apple\":\"600\"}"
   ]
  },
  {
   "cell_type": "code",
   "execution_count": 68,
   "id": "ae62e0b5",
   "metadata": {},
   "outputs": [
    {
     "data": {
      "text/plain": [
       "500"
      ]
     },
     "execution_count": 68,
     "metadata": {},
     "output_type": "execute_result"
    }
   ],
   "source": [
    "fruit_prices[\"watermelon\"][-1][\"small\"]"
   ]
  },
  {
   "cell_type": "code",
   "execution_count": 70,
   "id": "9c6f5175",
   "metadata": {},
   "outputs": [],
   "source": [
    "fruit_prices[\"mango\"] = 400"
   ]
  },
  {
   "cell_type": "code",
   "execution_count": 71,
   "id": "b8887d36",
   "metadata": {},
   "outputs": [
    {
     "data": {
      "text/plain": [
       "{'watermelon': [{'big': 1000}, {'small': 500}],\n",
       " 'banana': '500',\n",
       " 'carrot': '700',\n",
       " 'apple': '600',\n",
       " 'mango': 400}"
      ]
     },
     "execution_count": 71,
     "metadata": {},
     "output_type": "execute_result"
    }
   ],
   "source": [
    "fruit_prices"
   ]
  },
  {
   "cell_type": "code",
   "execution_count": 77,
   "id": "69e98561",
   "metadata": {},
   "outputs": [],
   "source": [
    "fruit_prices[\"watermelon\"][1] = {\"guava\": 800}"
   ]
  },
  {
   "cell_type": "code",
   "execution_count": 78,
   "id": "49c91ff2",
   "metadata": {},
   "outputs": [
    {
     "data": {
      "text/plain": [
       "{'watermelon': [{'big': 1000}, {'guava': 800}],\n",
       " 'banana': '500',\n",
       " 'carrot': '700',\n",
       " 'apple': '600',\n",
       " 'mango': 400}"
      ]
     },
     "execution_count": 78,
     "metadata": {},
     "output_type": "execute_result"
    }
   ],
   "source": [
    "fruit_prices"
   ]
  },
  {
   "cell_type": "code",
   "execution_count": 80,
   "id": "3af36e55",
   "metadata": {},
   "outputs": [
    {
     "data": {
      "text/plain": [
       "dict_keys(['watermelon', 'banana', 'carrot', 'apple', 'mango'])"
      ]
     },
     "execution_count": 80,
     "metadata": {},
     "output_type": "execute_result"
    }
   ],
   "source": [
    "fruit_prices.keys()"
   ]
  },
  {
   "cell_type": "code",
   "execution_count": 81,
   "id": "e233944f",
   "metadata": {},
   "outputs": [
    {
     "data": {
      "text/plain": [
       "dict_values([[{'big': 1000}, {'guava': 800}], '500', '700', '600', 400])"
      ]
     },
     "execution_count": 81,
     "metadata": {},
     "output_type": "execute_result"
    }
   ],
   "source": [
    "fruit_prices.values()"
   ]
  },
  {
   "cell_type": "code",
   "execution_count": 82,
   "id": "75b25a2e",
   "metadata": {},
   "outputs": [
    {
     "data": {
      "text/plain": [
       "dict_items([('watermelon', [{'big': 1000}, {'guava': 800}]), ('banana', '500'), ('carrot', '700'), ('apple', '600'), ('mango', 400)])"
      ]
     },
     "execution_count": 82,
     "metadata": {},
     "output_type": "execute_result"
    }
   ],
   "source": [
    "fruit_prices.items()"
   ]
  },
  {
   "cell_type": "code",
   "execution_count": 83,
   "id": "7a5eeb07",
   "metadata": {},
   "outputs": [],
   "source": [
    "t = (1,2,3,4,\"five\")"
   ]
  },
  {
   "cell_type": "code",
   "execution_count": 84,
   "id": "d3714add",
   "metadata": {},
   "outputs": [
    {
     "data": {
      "text/plain": [
       "tuple"
      ]
     },
     "execution_count": 84,
     "metadata": {},
     "output_type": "execute_result"
    }
   ],
   "source": [
    "type(t)"
   ]
  },
  {
   "cell_type": "code",
   "execution_count": 85,
   "id": "0a305140",
   "metadata": {},
   "outputs": [
    {
     "data": {
      "text/plain": [
       "'five'"
      ]
     },
     "execution_count": 85,
     "metadata": {},
     "output_type": "execute_result"
    }
   ],
   "source": [
    "t[-1]"
   ]
  },
  {
   "cell_type": "code",
   "execution_count": 86,
   "id": "20091181",
   "metadata": {},
   "outputs": [
    {
     "data": {
      "text/plain": [
       "(1, 2, 3, 4, 'five')"
      ]
     },
     "execution_count": 86,
     "metadata": {},
     "output_type": "execute_result"
    }
   ],
   "source": [
    "t[-5:]"
   ]
  },
  {
   "cell_type": "code",
   "execution_count": 95,
   "id": "bc23da25",
   "metadata": {},
   "outputs": [
    {
     "data": {
      "text/plain": [
       "('five',)"
      ]
     },
     "execution_count": 95,
     "metadata": {},
     "output_type": "execute_result"
    }
   ],
   "source": [
    "t[-1:]"
   ]
  },
  {
   "cell_type": "code",
   "execution_count": 97,
   "id": "9496a9e5",
   "metadata": {},
   "outputs": [
    {
     "data": {
      "text/plain": [
       "1"
      ]
     },
     "execution_count": 97,
     "metadata": {},
     "output_type": "execute_result"
    }
   ],
   "source": [
    "t[0]"
   ]
  },
  {
   "cell_type": "code",
   "execution_count": 109,
   "id": "fd1002a9",
   "metadata": {},
   "outputs": [],
   "source": [
    "t1 = (1,1,\"a\",\"a\",\"b\",2,2,4,3,3,6)"
   ]
  },
  {
   "cell_type": "code",
   "execution_count": 112,
   "id": "b49bb8ef",
   "metadata": {},
   "outputs": [
    {
     "data": {
      "text/plain": [
       "2"
      ]
     },
     "execution_count": 112,
     "metadata": {},
     "output_type": "execute_result"
    }
   ],
   "source": [
    "t1.count(\"a\")"
   ]
  },
  {
   "cell_type": "code",
   "execution_count": 113,
   "id": "7d47bba6",
   "metadata": {},
   "outputs": [
    {
     "data": {
      "text/plain": [
       "2"
      ]
     },
     "execution_count": 113,
     "metadata": {},
     "output_type": "execute_result"
    }
   ],
   "source": [
    "t1.count(2)"
   ]
  },
  {
   "cell_type": "code",
   "execution_count": 114,
   "id": "324455c6",
   "metadata": {},
   "outputs": [
    {
     "data": {
      "text/plain": [
       "2"
      ]
     },
     "execution_count": 114,
     "metadata": {},
     "output_type": "execute_result"
    }
   ],
   "source": [
    "t1.count(1)"
   ]
  },
  {
   "cell_type": "code",
   "execution_count": 102,
   "id": "ab98d344",
   "metadata": {},
   "outputs": [
    {
     "data": {
      "text/plain": [
       "0"
      ]
     },
     "execution_count": 102,
     "metadata": {},
     "output_type": "execute_result"
    }
   ],
   "source": [
    "t.index(1)"
   ]
  },
  {
   "cell_type": "code",
   "execution_count": 105,
   "id": "4336fc6d",
   "metadata": {},
   "outputs": [
    {
     "data": {
      "text/plain": [
       "tuple"
      ]
     },
     "execution_count": 105,
     "metadata": {},
     "output_type": "execute_result"
    }
   ],
   "source": [
    "type(t1)"
   ]
  },
  {
   "cell_type": "code",
   "execution_count": 106,
   "id": "7f8a5a0d",
   "metadata": {},
   "outputs": [
    {
     "data": {
      "text/plain": [
       "(1, 1, 2, 2, 2, 2, 2, 4, 3, 3, 6)"
      ]
     },
     "execution_count": 106,
     "metadata": {},
     "output_type": "execute_result"
    }
   ],
   "source": [
    "t1"
   ]
  },
  {
   "cell_type": "code",
   "execution_count": 107,
   "id": "6cf4cba5",
   "metadata": {},
   "outputs": [
    {
     "name": "stdout",
     "output_type": "stream",
     "text": [
      "Help on class tuple in module builtins:\n",
      "\n",
      "class tuple(object)\n",
      " |  tuple(iterable=(), /)\n",
      " |  \n",
      " |  Built-in immutable sequence.\n",
      " |  \n",
      " |  If no argument is given, the constructor returns an empty tuple.\n",
      " |  If iterable is specified the tuple is initialized from iterable's items.\n",
      " |  \n",
      " |  If the argument is a tuple, the return value is the same object.\n",
      " |  \n",
      " |  Built-in subclasses:\n",
      " |      asyncgen_hooks\n",
      " |      UnraisableHookArgs\n",
      " |  \n",
      " |  Methods defined here:\n",
      " |  \n",
      " |  __add__(self, value, /)\n",
      " |      Return self+value.\n",
      " |  \n",
      " |  __contains__(self, key, /)\n",
      " |      Return key in self.\n",
      " |  \n",
      " |  __eq__(self, value, /)\n",
      " |      Return self==value.\n",
      " |  \n",
      " |  __ge__(self, value, /)\n",
      " |      Return self>=value.\n",
      " |  \n",
      " |  __getattribute__(self, name, /)\n",
      " |      Return getattr(self, name).\n",
      " |  \n",
      " |  __getitem__(self, key, /)\n",
      " |      Return self[key].\n",
      " |  \n",
      " |  __getnewargs__(self, /)\n",
      " |  \n",
      " |  __gt__(self, value, /)\n",
      " |      Return self>value.\n",
      " |  \n",
      " |  __hash__(self, /)\n",
      " |      Return hash(self).\n",
      " |  \n",
      " |  __iter__(self, /)\n",
      " |      Implement iter(self).\n",
      " |  \n",
      " |  __le__(self, value, /)\n",
      " |      Return self<=value.\n",
      " |  \n",
      " |  __len__(self, /)\n",
      " |      Return len(self).\n",
      " |  \n",
      " |  __lt__(self, value, /)\n",
      " |      Return self<value.\n",
      " |  \n",
      " |  __mul__(self, value, /)\n",
      " |      Return self*value.\n",
      " |  \n",
      " |  __ne__(self, value, /)\n",
      " |      Return self!=value.\n",
      " |  \n",
      " |  __repr__(self, /)\n",
      " |      Return repr(self).\n",
      " |  \n",
      " |  __rmul__(self, value, /)\n",
      " |      Return value*self.\n",
      " |  \n",
      " |  count(self, value, /)\n",
      " |      Return number of occurrences of value.\n",
      " |  \n",
      " |  index(self, value, start=0, stop=9223372036854775807, /)\n",
      " |      Return first index of value.\n",
      " |      \n",
      " |      Raises ValueError if the value is not present.\n",
      " |  \n",
      " |  ----------------------------------------------------------------------\n",
      " |  Class methods defined here:\n",
      " |  \n",
      " |  __class_getitem__(...) from builtins.type\n",
      " |      See PEP 585\n",
      " |  \n",
      " |  ----------------------------------------------------------------------\n",
      " |  Static methods defined here:\n",
      " |  \n",
      " |  __new__(*args, **kwargs) from builtins.type\n",
      " |      Create and return a new object.  See help(type) for accurate signature.\n",
      "\n"
     ]
    }
   ],
   "source": [
    "help(tuple)"
   ]
  },
  {
   "cell_type": "code",
   "execution_count": 118,
   "id": "c6de6794",
   "metadata": {},
   "outputs": [
    {
     "data": {
      "text/plain": [
       "set()"
      ]
     },
     "execution_count": 118,
     "metadata": {},
     "output_type": "execute_result"
    }
   ],
   "source": [
    "myset = set()\n",
    "myset"
   ]
  },
  {
   "cell_type": "code",
   "execution_count": 121,
   "id": "8120f8d7",
   "metadata": {},
   "outputs": [],
   "source": [
    "myset.add(1)"
   ]
  },
  {
   "cell_type": "code",
   "execution_count": 122,
   "id": "e325177a",
   "metadata": {},
   "outputs": [],
   "source": [
    "myset.add(2)"
   ]
  },
  {
   "cell_type": "code",
   "execution_count": 123,
   "id": "3eb99124",
   "metadata": {},
   "outputs": [],
   "source": [
    "myset.add(3)"
   ]
  },
  {
   "cell_type": "code",
   "execution_count": 124,
   "id": "b6616b29",
   "metadata": {},
   "outputs": [
    {
     "data": {
      "text/plain": [
       "{1, 2, 3}"
      ]
     },
     "execution_count": 124,
     "metadata": {},
     "output_type": "execute_result"
    }
   ],
   "source": [
    "myset"
   ]
  },
  {
   "cell_type": "code",
   "execution_count": 125,
   "id": "38c1f003",
   "metadata": {},
   "outputs": [],
   "source": [
    "lst = [1,1,1,2,2,2,2,2,3,3,4,4,4,4,4,4,4,]"
   ]
  },
  {
   "cell_type": "code",
   "execution_count": 127,
   "id": "6920b9eb",
   "metadata": {},
   "outputs": [
    {
     "data": {
      "text/plain": [
       "{1, 2, 3, 4}"
      ]
     },
     "execution_count": 127,
     "metadata": {},
     "output_type": "execute_result"
    }
   ],
   "source": [
    "set(lst)"
   ]
  },
  {
   "cell_type": "code",
   "execution_count": 128,
   "id": "5e847807",
   "metadata": {},
   "outputs": [
    {
     "data": {
      "text/plain": [
       "(1, 1, 1, 2, 2, 2, 2, 2, 3, 3, 4, 4, 4, 4, 4, 4, 4)"
      ]
     },
     "execution_count": 128,
     "metadata": {},
     "output_type": "execute_result"
    }
   ],
   "source": [
    "tuple(lst)"
   ]
  },
  {
   "cell_type": "code",
   "execution_count": 129,
   "id": "1d36e9e6",
   "metadata": {},
   "outputs": [],
   "source": [
    "h = \"hello\"\n"
   ]
  },
  {
   "cell_type": "code",
   "execution_count": 131,
   "id": "7ccca398",
   "metadata": {},
   "outputs": [
    {
     "data": {
      "text/plain": [
       "'hello'"
      ]
     },
     "execution_count": 131,
     "metadata": {},
     "output_type": "execute_result"
    }
   ],
   "source": [
    "h[0:5]"
   ]
  },
  {
   "cell_type": "code",
   "execution_count": 132,
   "id": "c7b7d897",
   "metadata": {},
   "outputs": [
    {
     "data": {
      "text/plain": [
       "'olleh'"
      ]
     },
     "execution_count": 132,
     "metadata": {},
     "output_type": "execute_result"
    }
   ],
   "source": [
    "h[::-1]"
   ]
  },
  {
   "cell_type": "code",
   "execution_count": 133,
   "id": "66c58c77",
   "metadata": {},
   "outputs": [
    {
     "data": {
      "text/plain": [
       "'hello'"
      ]
     },
     "execution_count": 133,
     "metadata": {},
     "output_type": "execute_result"
    }
   ],
   "source": [
    "h[::]"
   ]
  },
  {
   "cell_type": "code",
   "execution_count": 134,
   "id": "0f4b2b88",
   "metadata": {},
   "outputs": [
    {
     "data": {
      "text/plain": [
       "'hello'"
      ]
     },
     "execution_count": 134,
     "metadata": {},
     "output_type": "execute_result"
    }
   ],
   "source": [
    "h[::1]"
   ]
  },
  {
   "cell_type": "code",
   "execution_count": 135,
   "id": "9443f296",
   "metadata": {},
   "outputs": [
    {
     "data": {
      "text/plain": [
       "'hlo'"
      ]
     },
     "execution_count": 135,
     "metadata": {},
     "output_type": "execute_result"
    }
   ],
   "source": [
    "h[::2]"
   ]
  },
  {
   "cell_type": "code",
   "execution_count": null,
   "id": "5adf5e1a",
   "metadata": {},
   "outputs": [],
   "source": []
  }
 ],
 "metadata": {
  "kernelspec": {
   "display_name": "Python 3 (ipykernel)",
   "language": "python",
   "name": "python3"
  },
  "language_info": {
   "codemirror_mode": {
    "name": "ipython",
    "version": 3
   },
   "file_extension": ".py",
   "mimetype": "text/x-python",
   "name": "python",
   "nbconvert_exporter": "python",
   "pygments_lexer": "ipython3",
   "version": "3.11.5"
  }
 },
 "nbformat": 4,
 "nbformat_minor": 5
}
